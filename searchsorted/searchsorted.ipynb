{
 "cells": [
  {
   "cell_type": "code",
   "execution_count": 16,
   "metadata": {},
   "outputs": [
    {
     "data": {
      "text/plain": [
       "array([ 0,  2,  8, 10, 14, 17, 19, 25, 29, 32, 36, 58])"
      ]
     },
     "execution_count": 16,
     "metadata": {},
     "output_type": "execute_result"
    }
   ],
   "source": [
    "## 導人NumPy套件\n",
    "import numpy as np\n",
    "\n",
    "## 構建一個NumPy 數組\n",
    "x = np.array([0,2,8,10,14,17,19,25,29,32,36,58])\n",
    "x"
   ]
  },
  {
   "cell_type": "code",
   "execution_count": 14,
   "metadata": {},
   "outputs": [
    {
     "name": "stdout",
     "output_type": "stream",
     "text": [
      "Insert 28:   8\n",
      "Insert 28 and set side = left:   8\n",
      "Insert 28 and set side = right:  8\n"
     ]
    }
   ],
   "source": [
    "## 插入單個元素\n",
    "ind1 = np.searchsorted(x, 28)\n",
    "print ('Insert 28:  ', ind1)\n",
    "\n",
    "## 設定side=left\n",
    "ind2 = np.searchsorted(x, 28, side = 'left')\n",
    "print ('Insert 28 and set side = left:  ', ind2)\n",
    "\n",
    "## 設定side = right\n",
    "ind3 = np.searchsorted(x, 28, side = 'right')\n",
    "print('Insert 28 and set side = right: ', ind3)"
   ]
  },
  {
   "cell_type": "code",
   "execution_count": 20,
   "metadata": {},
   "outputs": [
    {
     "name": "stdout",
     "output_type": "stream",
     "text": [
      "Insert 28 and set side = left:   0\n",
      "Insert 28 and set side = right:   0\n"
     ]
    }
   ],
   "source": [
    "## 插入比輸人數組的最小值更小的元素\n",
    "\n",
    "## 設定side = left\n",
    "ind1 = np.searchsorted(x, -2, side = 'left')\n",
    "print('Insert 28 and set side = left:  ', ind1)\n",
    "\n",
    "## 設定side = right\n",
    "ind2 = np.searchsorted (x, -2, side = 'right')\n",
    "print('Insert 28 and set side = right:  ', ind2)"
   ]
  },
  {
   "cell_type": "code",
   "execution_count": 21,
   "metadata": {},
   "outputs": [
    {
     "name": "stdout",
     "output_type": "stream",
     "text": [
      "Insert 28 and set side = left:   12\n",
      "Insert 28 and set side = right:   12\n"
     ]
    }
   ],
   "source": [
    "## 插入比輸入數组最大值更大的元素\n",
    "## 設定side = left\n",
    "ind1 = np.searchsorted (x, 99, side = 'left')\n",
    "print ('Insert 28 and set side = left:  ', ind1)\n",
    "\n",
    "## 設定side = right\n",
    "ind2 = np.searchsorted(x, 99, side = 'right')\n",
    "print('Insert 28 and set side = right:  ', ind2)"
   ]
  },
  {
   "cell_type": "code",
   "execution_count": 22,
   "metadata": {},
   "outputs": [
    {
     "name": "stdout",
     "output_type": "stream",
     "text": [
      "Insert 28 and set side = left:   1\n",
      "Insert 28 and set side = right:   2\n"
     ]
    }
   ],
   "source": [
    "## 播入信跟輸人數组裡面的元素相等\n",
    "## 設定side=left\n",
    "ind1 = np.searchsorted(x, 2, side = 'left')\n",
    "print ('Insert 28 and set side = left:  ', ind1)\n",
    "\n",
    "## 設定side = right\n",
    "ind2 = np.searchsorted(x, 2, side = 'right')\n",
    "print('Insert 28 and set side = right:  ', ind2)\n",
    "\n",
    "\n",
    "\n",
    "## 當插人值跟輸入數組裡面的元素相等, side -'left'和s ide = 'right'結果是不一樣的\n",
    "## 1.side = left: 會返回與相同元素一樣的位置\n",
    "## 2.side=right:會返回相同元素的下一個位置"
   ]
  },
  {
   "cell_type": "code",
   "execution_count": 29,
   "metadata": {},
   "outputs": [
    {
     "name": "stdout",
     "output_type": "stream",
     "text": [
      "Insert 28 and set side = left:   [ 0  2  2  3  8  8 11 12]\n",
      "Insert 28 and set side = right: [ 0  2  3  3  8  8 12 12]\n"
     ]
    }
   ],
   "source": [
    "## 插入值為一個數組\n",
    "## 設定side = left\n",
    "ind1 = np.searchsorted(x, [-2,3,8,9,26,28,58,66], side = 'left')\n",
    "print ('Insert 28 and set side = left:  ', ind1)\n",
    "\n",
    "## 設定side = right\n",
    "ind2 = np.searchsorted(x, [-2,3,8,9, 26, 28, 58,66], side = 'right')\n",
    "print('Insert 28 and set side = right:', ind2)"
   ]
  },
  {
   "cell_type": "code",
   "execution_count": 33,
   "metadata": {},
   "outputs": [
    {
     "name": "stdout",
     "output_type": "stream",
     "text": [
      "x =  [29 19 10 58  2 17 14 36 25 32  0  8]\n",
      "x_sort_index:  [10  4 11  2  6  5  1  8  0  9  7  3]\n",
      "Insert 28 and set side = left:   [ 0  2  2  3  8  8 11 12]\n",
      "Insert 28 and set side right:  [ 0  2  3  3  8  8 12 12]\n"
     ]
    }
   ],
   "source": [
    "## 當輸入數組不是升序的狀況\n",
    "## 隐機排列x數組\n",
    "np.random.shuffle(x)\n",
    "print ('x = ', x)\n",
    "\n",
    "\n",
    "## 要先存放x的正確排序索引值\n",
    "x_sort_index = np.argsort(x)\n",
    "print('x_sort_index: ', x_sort_index)\n",
    "\n",
    "## 接下來才能執行插人\n",
    "\n",
    "## 設定side = left\n",
    "ind1 = np.searchsorted (x, [-2,3,8,9,26,28, 58,66], side ='left', sorter = x_sort_index)\n",
    "print('Insert 28 and set side = left:  ', ind1)\n",
    "\n",
    "## 設定side=right\n",
    "ind2 = np.searchsorted (x, [-2,3,8,9, 26,28, 58, 66], side = 'right', sorter = x_sort_index)\n",
    "print('Insert 28 and set side right: ', ind2)"
   ]
  },
  {
   "cell_type": "code",
   "execution_count": 35,
   "metadata": {},
   "outputs": [
    {
     "name": "stdout",
     "output_type": "stream",
     "text": [
      "Searchsorted Index:  [13  8  9  9 11 13  4 13 11 11 16 12 12 13 10 10 10  9 10  9  9 10  8  9\n",
      " 10  8 13 11 10  9  8 13  8 11  8 12 12 11 10  9 10  6  6 10 10 11 10 12\n",
      " 13 12 12 10 10  9 12  8  9 13 10 10 10 13 11  8  9 12 11 12 13  8 12 14\n",
      "  7 11  9  9  9 14  9 12 11 11 10  7 11 11  7 11  7 10 12 13  8  8  8 13\n",
      " 11  8 12 10]\n"
     ]
    },
    {
     "data": {
      "text/plain": [
       "[<matplotlib.lines.Line2D at 0x2420100a548>]"
      ]
     },
     "execution_count": 35,
     "metadata": {},
     "output_type": "execute_result"
    },
    {
     "data": {
      "image/png": "[encoded data removed]",
      "text/plain": [
       "<Figure size 432x288 with 1 Axes>"
      ]
     },
     "metadata": {
      "needs_background": "light"
     },
     "output_type": "display_data"
    }
   ],
   "source": [
    "import numpy as np\n",
    "import matplotlib.pyplot as plt\n",
    "\n",
    "## 隨機產生一個一維並擁有100個標準正態分布的值\n",
    "np.random.seed(66)\n",
    "x = np.random.randn(100)\n",
    "\n",
    "## 自定義一個數據分組, 區間-5到5平均取20個數據點,每個區間為一個數據分組\n",
    "bins = np.linspace (-5, 5, 20)\n",
    "\n",
    "\n",
    "## counts為x數值落入區間的計數\n",
    "counts = np.zeros_like(bins)\n",
    "\n",
    "## 使用searchsorted, 來獲得x每個數據點在bins中落人的區間序號\n",
    "i = np.searchsorted(bins, x)\n",
    "print('Searchsorted Index: ',i)\n",
    "\n",
    "\n",
    "## 使用at和add, 對x元素在每個區間的元素個數進行計算\n",
    "np.add.at(counts, i, 1)\n",
    "\n",
    "## 視覺化\n",
    "plt.plot(bins, counts, ds = 'steps')"
   ]
  }
 ],
 "metadata": {
  "kernelspec": {
   "display_name": "Python 3",
   "language": "python",
   "name": "python3"
  },
  "language_info": {
   "codemirror_mode": {
    "name": "ipython",
    "version": 3
   },
   "file_extension": ".py",
   "mimetype": "text/x-python",
   "name": "python",
   "nbconvert_exporter": "python",
   "pygments_lexer": "ipython3",
   "version": "3.7.6"
  }
 },
 "nbformat": 4,
 "nbformat_minor": 4
}
