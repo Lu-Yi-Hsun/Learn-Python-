{
 "cells": [
  {
   "cell_type": "code",
   "execution_count": 12,
   "metadata": {},
   "outputs": [
    {
     "name": "stdout",
     "output_type": "stream",
     "text": [
      "Sample Folder: ['level1', 'not_null', 'python_file.py', 'sample.txt', 'sample_file.txt', 'sample_file1.txt', 'sample_file_example.txt', 'test_folder']\n",
      "Delete File\n",
      "Sample Folder:  ['level1', 'not_null', 'python_file.py', 'sample.txt', 'sample_file1.txt', 'sample_file_example.txt', 'test_folder']\n"
     ]
    }
   ],
   "source": [
    "import os\n",
    "\n",
    "path = 'sample/'\n",
    "\n",
    "file = 'sample/sample_file.txt'\n",
    "\n",
    "print('Sample Folder:', os.listdir(path))\n",
    "\n",
    "try:\n",
    "\n",
    "    os.remove(file)\n",
    "\n",
    "except OSError as e:\n",
    "\n",
    "    print('Delete Problem: ', e)\n",
    "\n",
    "else:\n",
    "    print('Delete File')\n",
    "    print('Sample Folder: ', os.listdir(path))"
   ]
  },
  {
   "cell_type": "code",
   "execution_count": 13,
   "metadata": {},
   "outputs": [
    {
     "name": "stdout",
     "output_type": "stream",
     "text": [
      "Sample Folder:  ['level1', 'not_null', 'python_file.py', 'sample.txt', 'sample_file1.txt', 'sample_file_example.txt', 'test_folder']\n",
      "Delete File\n",
      "Sample Folder:  ['level1', 'not_null', 'sample.txt', 'sample_file1.txt', 'sample_file_example.txt', 'test_folder']\n"
     ]
    }
   ],
   "source": [
    "import os\n",
    "\n",
    "path = 'sample/'\n",
    "\n",
    "\n",
    "print('Sample Folder: ', os.listdir(path))\n",
    "\n",
    "os.unlink('sample/python_file.py')\n",
    "\n",
    "print('Delete File')\n",
    "print('Sample Folder: ', os.listdir(path))"
   ]
  },
  {
   "cell_type": "code",
   "execution_count": 14,
   "metadata": {},
   "outputs": [
    {
     "name": "stdout",
     "output_type": "stream",
     "text": [
      "Sample Folder: ['level1', 'not_null', 'sample.txt', 'sample_file1.txt', 'sample_file_example.txt', 'test_folder']\n",
      "Delete File\n",
      "Sample Folder:  ['level1', 'not_null', 'sample.txt', 'sample_file1.txt', 'sample_file_example.txt']\n"
     ]
    }
   ],
   "source": [
    "import os\n",
    "\n",
    "path = 'sample/'\n",
    "\n",
    "folder = 'sample/test_folder'\n",
    "print('Sample Folder:', os.listdir(path))\n",
    "\n",
    "try:\n",
    "\n",
    "    os. rmdir(folder)\n",
    "\n",
    "except OSError as e:\n",
    "\n",
    "    print('Delete Problem: ', e)\n",
    "\n",
    "else:\n",
    "\n",
    "    print('Delete File')\n",
    "    print('Sample Folder: ', os. listdir(path))"
   ]
  },
  {
   "cell_type": "code",
   "execution_count": 16,
   "metadata": {},
   "outputs": [
    {
     "name": "stdout",
     "output_type": "stream",
     "text": [
      "Sample Folder:  ['level1', 'not_null', 'sample.txt', 'sample_file1.txt', 'sample_file_example.txt']\n",
      "Delete File\n",
      "Sample Folder:  ['level1', 'not_null', 'sample.txt', 'sample_file_example.txt']\n"
     ]
    }
   ],
   "source": [
    "from pathlib import Path\n",
    "\n",
    "path = 'sample/'\n",
    "\n",
    "file = Path('sample/sample_file1.txt')\n",
    "\n",
    "print('Sample Folder: ', os.listdir(path))\n",
    "\n",
    "try:\n",
    "\n",
    "    file.unlink()\n",
    "    print('Delete File')\n",
    "    print('Sample Folder: ', os.listdir(path))\n",
    "\n",
    "except OSError as e:\n",
    "    print (f\"Delete Problem: {e.strerror}\")"
   ]
  },
  {
   "cell_type": "code",
   "execution_count": 21,
   "metadata": {},
   "outputs": [
    {
     "name": "stdout",
     "output_type": "stream",
     "text": [
      "Sample Folder:  ['level1', 'not_null', 'sample.txt', 'sample_file_example.txt']\n",
      "Delete File\n",
      "Sample Folder:  ['not_null', 'sample.txt', 'sample_file_example.txt']\n"
     ]
    }
   ],
   "source": [
    "import os\n",
    "\n",
    "path = 'sample/'\n",
    "folder = 'sample/level1/level2'\n",
    "\n",
    "print('Sample Folder: ', os.listdir(path))\n",
    "\n",
    "try:\n",
    "\n",
    "    os.removedirs (folder)\n",
    "\n",
    "except OSError as e:\n",
    "\n",
    "    print('Delete Problem:', e)\n",
    "\n",
    "else:\n",
    "\n",
    "    print('Delete File')\n",
    "    print('Sample Folder: ', os.listdir(path))"
   ]
  },
  {
   "cell_type": "code",
   "execution_count": 24,
   "metadata": {},
   "outputs": [
    {
     "name": "stdout",
     "output_type": "stream",
     "text": [
      "Sample Folder:  ['not_null', 'sample.txt', 'sample_file_example.txt']\n",
      "Delete File\n",
      "Sample Folder:  ['not_null', 'sample.txt']\n"
     ]
    }
   ],
   "source": [
    "import os\n",
    "\n",
    "import glob\n",
    "\n",
    "## 刪除以sample_為開頭的txt檔案\n",
    "all_text = glob.glob('sample/sample_*.txt')\n",
    "\n",
    "path = 'sample/'\n",
    "\n",
    "print('Sample Folder: ', os.listdir(path))\n",
    "\n",
    "for t in all_text:\n",
    "    try:\n",
    "        os.remove(t)\n",
    "\n",
    "    except OSError as e:\n",
    "\n",
    "        print('Delete Problem: ', e)\n",
    "\n",
    "print('Delete File')\n",
    "print('Sample Folder: ', os.listdir(path))"
   ]
  },
  {
   "cell_type": "code",
   "execution_count": 28,
   "metadata": {},
   "outputs": [
    {
     "name": "stdout",
     "output_type": "stream",
     "text": [
      "Sample Folder:  ['not_null', 'sample.txt']\n",
      "Delete File\n",
      "Sample Folder:  ['sample.txt']\n"
     ]
    }
   ],
   "source": [
    "import shutil\n",
    "\n",
    "path = 'sample/'\n",
    "\n",
    "folder = 'sample/not_null'\n",
    "\n",
    "print('Sample Folder: ', os.listdir(path))\n",
    "\n",
    "try:\n",
    "\n",
    "    shutil.rmtree (folder)\n",
    "\n",
    "except OSError as e:\n",
    "\n",
    "    print('Delete Problem: ', e)\n",
    "\n",
    "else:\n",
    "\n",
    "    print('Delete File')\n",
    "    print('Sample Folder: ', os.listdir(path))"
   ]
  }
 ],
 "metadata": {
  "kernelspec": {
   "display_name": "Python 3",
   "language": "python",
   "name": "python3"
  },
  "language_info": {
   "codemirror_mode": {
    "name": "ipython",
    "version": 3
   },
   "file_extension": ".py",
   "mimetype": "text/x-python",
   "name": "python",
   "nbconvert_exporter": "python",
   "pygments_lexer": "ipython3",
   "version": "3.7.6"
  }
 },
 "nbformat": 4,
 "nbformat_minor": 4
}
