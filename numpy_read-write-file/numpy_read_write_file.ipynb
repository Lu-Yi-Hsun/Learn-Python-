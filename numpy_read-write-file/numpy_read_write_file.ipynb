{
 "cells": [
  {
   "cell_type": "code",
   "execution_count": 4,
   "metadata": {},
   "outputs": [
    {
     "name": "stdout",
     "output_type": "stream",
     "text": [
      "Save:  [0 1 2 3 4 5 6 7 8 9]\n",
      "Load:  [0 1 2 3 4 5 6 7 8 9]\n"
     ]
    }
   ],
   "source": [
    "import numpy as np\n",
    "\n",
    "## 創建一個0到9的array\n",
    "x = np.arange (10)\n",
    "print('Save: ', x)\n",
    "\n",
    "## 保存成npy檔\n",
    "np.save('numpy_sample.npy', x)\n",
    "\n",
    "## 不特別設定副檔名,會自動存成npy檔\n",
    "np.save('numpy_samplel.npy', x)\n",
    "\n",
    "## #npy\n",
    "y = np.load('numpy_sample.npy')\n",
    "print('Load: ', y)"
   ]
  },
  {
   "cell_type": "code",
   "execution_count": 6,
   "metadata": {},
   "outputs": [
    {
     "name": "stdout",
     "output_type": "stream",
     "text": [
      "�NUMPY\u0001\u0000v\u0000{'descr': '<i4', 'fortran_order': False, 'shape': (10,), }                                                           \n",
      "\u0000\u0000\u0000\u0000\u0001\u0000\u0000\u0000\u0002\u0000\u0000\u0000\u0003\u0000\u0000\u0000\u0004\u0000\u0000\u0000\u0005\u0000\u0000\u0000\u0006\u0000\u0000\u0000\u0007\u0000\u0000\u0000\b\u0000\u0000\u0000\t\u0000\u0000\u0000\n"
     ]
    }
   ],
   "source": [
    "## 查看一下npy裡面的內容\n",
    "!type numpy_sample.npy"
   ]
  },
  {
   "cell_type": "code",
   "execution_count": 7,
   "metadata": {},
   "outputs": [
    {
     "name": "stdout",
     "output_type": "stream",
     "text": [
      "Array Name:  ['cos_array', 'arr_0', 'arr_1']\n",
      "<numpy.lib.npyio.NpzFile object at 0x00000175C7D1FD08>\n",
      "Array x:  [0 1 2 3 4 5 6 7 8 9]\n",
      "Array y:  [ 1.          0.54030231 -0.41614684 -0.9899925  -0.65364362  0.28366219\n",
      "  0.96017029  0.75390225 -0.14550003 -0.91113026]\n",
      "Array z:  [[2 4 6]\n",
      " [3 5 8]]\n"
     ]
    }
   ],
   "source": [
    "import numpy as np\n",
    "\n",
    "x= np.arange(0, 10)\n",
    "\n",
    "y = np.cos(x)\n",
    "\n",
    "z = np.array([[2,4,6], [3,5,8]])\n",
    "\n",
    "## 將多個array保存為npz\n",
    "## y使用了關鍵字引數 cos_array,也就是之後會透過這個指定的關鍵字獲取y值\n",
    "np.savez ('multiple_array.npz', x, z, cos_array = y)\n",
    "\n",
    "## 載入npz檔\n",
    "a = np.load('multiple_array.npz')\n",
    "\n",
    "## 顯示所有array的名稱\n",
    "print('Array Name: ', a.files)\n",
    "\n",
    "## 直接print載回的檔案\n",
    "print (a)\n",
    "\n",
    "print('Array x: ', a['arr_0'])\n",
    "print('Array y: ', a['cos_array'])\n",
    "print('Array z: ', a['arr_1'])"
   ]
  },
  {
   "cell_type": "code",
   "execution_count": 8,
   "metadata": {},
   "outputs": [
    {
     "name": "stdout",
     "output_type": "stream",
     "text": [
      "PK\u0003\u0004\u0014\u0000\u0000\u0000\u0000\u0000\u0000\u0000!\u0000|\u0018菹�\u0000\u0000\u0000�\u0000\u0000\u0000\n",
      "\u0000\u0014\u0000cos_array.npy\u0001\u0000\u0010\u0000�\u0000\u0000\u0000\u0000\u0000\u0000\u0000�\u0000\u0000\u0000\u0000\u0000\u0000\u0000�NUMPY\u0001\u0000v\u0000{'descr': '<f8', 'fortran_order': False, 'shape': (10,), }                                                           \n",
      "\u0000\u0000\u0000\u0000\u0000\u0000�?�\u0006�\u000f(J�?\u0005rSW&Ｌ諜���\u0004殷螟$�\u0006串靽愃kp�'�?�\"x\t溯�?\u0017 ���\u001f�?�/c蕪�聶k\u0019戌�'篻PK\u0003\u0004\u0014\u0000\u0000\u0000\u0000\u0000\u0000\u0000!\u0000nE-儘\u0000\u0000\u0000�\u0000\u0000\u0000\t\u0000\u0014\u0000arr_0.npy\u0001\u0000\u0010\u0000�\u0000\u0000\u0000\u0000\u0000\u0000\u0000�\u0000\u0000\u0000\u0000\u0000\u0000\u0000�NUMPY\u0001\u0000v\u0000{'descr': '<i4', 'fortran_order': False, 'shape': (10,), }                                                           \n",
      "\u0000\u0000\u0000\u0000\u0001\u0000\u0000\u0000\u0002\u0000\u0000\u0000\u0003\u0000\u0000\u0000\u0004\u0000\u0000\u0000\u0005\u0000\u0000\u0000\u0006\u0000\u0000\u0000\u0007\u0000\u0000\u0000\b\u0000\u0000\u0000\t\u0000\u0000\u0000PK\u0003\u0004\u0014\u0000\u0000\u0000\u0000\u0000\u0000\u0000!\u0000�<\n",
      "��\u0000\u0000\u0000�\u0000\u0000\u0000\t\u0000\u0014\u0000arr_1.npy\u0001\u0000\u0010\u0000�\u0000\u0000\u0000\u0000\u0000\u0000\u0000�\u0000\u0000\u0000\u0000\u0000\u0000\u0000�NUMPY\u0001\u0000v\u0000{'descr': '<i4', 'fortran_order': False, 'shape': (2, 3), }                                                          \n",
      "\u0002\u0000\u0000\u0000\u0004\u0000\u0000\u0000\u0006\u0000\u0000\u0000\u0003\u0000\u0000\u0000\u0005\u0000\u0000\u0000\b\u0000\u0000\u0000PK\u0001\u0002\u0014\u0000\u0014\u0000\u0000\u0000\u0000\u0000\u0000\u0000!\u0000|\u0018菹�\u0000\u0000\u0000�\u0000\u0000\u0000\n",
      "\u0000\u0000\u0000\u0000\u0000\u0000\u0000\u0000\u0000\u0000\u0000�\u0001\u0000\u0000\u0000\u0000cos_array.npyPK\u0001\u0002\u0014\u0000\u0014\u0000\u0000\u0000\u0000\u0000\u0000\u0000!\u0000nE-儘\u0000\u0000\u0000�\u0000\u0000\u0000\t\u0000\u0000\u0000\u0000\u0000\u0000\u0000\u0000\u0000\u0000\u0000�\u0001\u000f\u0001\u0000\u0000arr_0.npyPK\u0001\u0002\u0014\u0000\u0014\u0000\u0000\u0000\u0000\u0000\u0000\u0000!\u0000�<\n",
      "��\u0000\u0000\u0000�\u0000\u0000\u0000\t\u0000\u0000\u0000\u0000\u0000\u0000\u0000\u0000\u0000\u0000\u0000�\u0001�\u0001\u0000\u0000arr_1.npyPK\u0005\u0006\u0000\u0000\u0000\u0000\u0003\u0000\u0003\u0000�\u0000\u0000\u0000�\u0002\u0000\u0000\u0000\u0000\n"
     ]
    }
   ],
   "source": [
    "!type multiple_array.npz"
   ]
  },
  {
   "cell_type": "code",
   "execution_count": 14,
   "metadata": {},
   "outputs": [
    {
     "name": "stdout",
     "output_type": "stream",
     "text": [
      "Save Text:  [0 1 2 3 4 5 6 7 8 9]\n",
      "Load Text:  [0. 1. 2. 3. 4. 5. 6. 7. 8. 9.]\n"
     ]
    }
   ],
   "source": [
    "import numpy as np\n",
    "\n",
    "x = np.arange(10)\n",
    "print('Save Text: ', x)\n",
    "\n",
    "##存成txt檔\n",
    "np.savetxt('example.txt',x)\n",
    "\n",
    "##載入txt檔\n",
    "y = np.loadtxt('example.txt')\n",
    "\n",
    "print('Load Text: ', y)"
   ]
  },
  {
   "cell_type": "code",
   "execution_count": 24,
   "metadata": {},
   "outputs": [
    {
     "name": "stdout",
     "output_type": "stream",
     "text": [
      "Original array:\n",
      "[[ 0  1  2  3]\n",
      " [ 4  5  6  7]\n",
      " [ 8  9 10 11]\n",
      " [12 13 14 15]\n",
      " [16 17 18 19]]\n",
      "Load Text: \n",
      "[[ 0.  1.  2.  3.]\n",
      " [ 4.  5.  6.  7.]\n",
      " [ 8.  9. 10. 11.]\n",
      " [12. 13. 14. 15.]\n",
      " [16. 17. 18. 19.]]\n"
     ]
    }
   ],
   "source": [
    "import numpy as np\n",
    "\n",
    "x = np.arange(0, 20).reshape(5, 4)\n",
    "print('Original array:')\n",
    "print (x)\n",
    "\n",
    "## 存成浮點數array,並以宣漢賊畢\n",
    "np.savetxt('example1.txt', x, fmt=\"%f\", delimiter = \"!\")\n",
    "\n",
    "## 載入text檔\n",
    "y = np.loadtxt('example1.txt', delimiter = \"!\")\n",
    "print('Load Text: ')\n",
    "print (y)"
   ]
  },
  {
   "cell_type": "code",
   "execution_count": 25,
   "metadata": {},
   "outputs": [
    {
     "name": "stdout",
     "output_type": "stream",
     "text": [
      "0.000000000000000000e+00\n",
      "1.000000000000000000e+00\n",
      "2.000000000000000000e+00\n",
      "3.000000000000000000e+00\n",
      "4.000000000000000000e+00\n",
      "5.000000000000000000e+00\n",
      "6.000000000000000000e+00\n",
      "7.000000000000000000e+00\n",
      "8.000000000000000000e+00\n",
      "9.000000000000000000e+00\n"
     ]
    }
   ],
   "source": [
    "!type example.txt"
   ]
  },
  {
   "cell_type": "code",
   "execution_count": null,
   "metadata": {},
   "outputs": [],
   "source": [
    "! examplel.txt"
   ]
  }
 ],
 "metadata": {
  "kernelspec": {
   "display_name": "Python 3",
   "language": "python",
   "name": "python3"
  },
  "language_info": {
   "codemirror_mode": {
    "name": "ipython",
    "version": 3
   },
   "file_extension": ".py",
   "mimetype": "text/x-python",
   "name": "python",
   "nbconvert_exporter": "python",
   "pygments_lexer": "ipython3",
   "version": "3.7.6"
  }
 },
 "nbformat": 4,
 "nbformat_minor": 4
}
